{
  "nbformat": 4,
  "nbformat_minor": 0,
  "metadata": {
    "kernelspec": {
      "display_name": "Python 3",
      "language": "python",
      "name": "python3"
    },
    "language_info": {
      "codemirror_mode": {
        "name": "ipython",
        "version": 3
      },
      "file_extension": ".py",
      "mimetype": "text/x-python",
      "name": "python",
      "nbconvert_exporter": "python",
      "pygments_lexer": "ipython3",
      "version": "3.7.3"
    },
    "colab": {
      "provenance": [],
      "include_colab_link": true
    }
  },
  "cells": [
    {
      "cell_type": "markdown",
      "metadata": {
        "id": "view-in-github",
        "colab_type": "text"
      },
      "source": [
        "<a href=\"https://colab.research.google.com/github/loaibaniez/loaibaniez/blob/main/Notebook_2.ipynb\" target=\"_parent\"><img src=\"https://colab.research.google.com/assets/colab-badge.svg\" alt=\"Open In Colab\"/></a>"
      ]
    },
    {
      "cell_type": "markdown",
      "metadata": {
        "id": "fUZUxG1CfJKo"
      },
      "source": [
        "# Programa Ingenias+ Data Science"
      ]
    },
    {
      "cell_type": "markdown",
      "metadata": {
        "id": "ZfnZX-ohfJOA"
      },
      "source": [
        "## Clase 2: Funciones y Estructuras de control"
      ]
    },
    {
      "cell_type": "markdown",
      "metadata": {
        "id": "UyqJAomcfJOB"
      },
      "source": [
        "En esta parte de la clase, vamos a estudiar sentencias de código que nos permitiran evaluar expresiones, recorrer estructura de datos o realizar operaciones mas complejas sobre ellas."
      ]
    },
    {
      "cell_type": "markdown",
      "metadata": {
        "id": "rnHu5n2lfJOR"
      },
      "source": [
        "## Definiendo Funciones"
      ]
    },
    {
      "cell_type": "markdown",
      "metadata": {
        "id": "36pZetV8fJOR"
      },
      "source": [
        "Python nos permite crear nuestras propias funciones. Una **función** es una secuencia de sentencias que ejecuta una operación deseada y tiene un nombre. Esta operación se especifica en una definición de función. En Python, la estructura general de una función contiene:\n",
        "\n",
        "- Un encabezado, que empieza con una palabra reservada `def` y termina con dos puntos.\n",
        "- Un cuerpo consistente de una o más sentencias de Python"
      ]
    },
    {
      "cell_type": "markdown",
      "metadata": {
        "id": "XAdT0XJMfJOS"
      },
      "source": [
        "Antes de seguir adelante debemos aclarar algo que es muy importante para la sintaxis de Python. Las funciones de Python no tienen begin o end explícitos, ni llaves que marquen dónde empieza o termina su código, como otros lenguajes de programación. El único delimitador son dos puntos `:` y el **INDENTADO** del propio código."
      ]
    },
    {
      "cell_type": "markdown",
      "metadata": {
        "id": "YfxgbOJcfJOS"
      },
      "source": [
        "Los bloques de código van definidos por su indentados. Con **bloque de código** nos referimos a funciones, sentencias if, bucles for, while, etc. El indentado comienza un bloque y su ausencia lo termina. No hay llaves, corchetes ni palabras clave explícitas. Esto quiere decir que el espacio en blanco es significativo y debe ser consistente."
      ]
    },
    {
      "cell_type": "markdown",
      "metadata": {
        "id": "mmwVW21vfJOS"
      },
      "source": [
        "Por convención, el indentado en Python esta dado por la presencia de **4 espacios**. Veamos entonces la sintaxis para una definición de función en Python y como funciona el indentado."
      ]
    },
    {
      "cell_type": "code",
      "metadata": {
        "id": "_mQ8w7yTfJOT",
        "outputId": "c4252226-b18c-4672-b1a8-023183e86455"
      },
      "source": [
        "#Para definir una funcion en python debo comenzar con def\n",
        "#luego el nombre de la funcion\n",
        "#Entre parentesis declaro los argumentos o variables que debe tomar\n",
        "#la funcion definida\n",
        "def suma(a, b):\n",
        "    #En el cuerpo establezco que hara la función\n",
        "    return a+b\n",
        "suma(3, 5)"
      ],
      "execution_count": null,
      "outputs": [
        {
          "output_type": "execute_result",
          "data": {
            "text/plain": [
              "8"
            ]
          },
          "metadata": {
            "tags": []
          },
          "execution_count": 66
        }
      ]
    },
    {
      "cell_type": "markdown",
      "metadata": {
        "id": "lZSWiyWrfJOV"
      },
      "source": [
        "Observa que la primer linea no tiene indentado, pero termina con `:`. Esto le indica a Python que alli comienza la función `comparacion`. En la segunda linea, hay un indentado de 4 espacios. Esto le indica a Python que comienza un bloque de código y todo lo que vaya ahi, ira dentro de la función.\n",
        "Luego en la tercer linea, no tenemos identado, lo que le indica a Python que la función `suma` ha finalizado."
      ]
    },
    {
      "cell_type": "markdown",
      "metadata": {
        "id": "Msqz56hVfJOW"
      },
      "source": [
        "`return` devuelve el valor de la función. Se utiliza dentro de una función. Una vez que mi función ejecuta la sentencia return, devuelve el valor especificado y no sigue ejecutando el resto de las lineas."
      ]
    },
    {
      "cell_type": "code",
      "metadata": {
        "id": "gQoNYbaYfJOW"
      },
      "source": [
        "#Ejecuta el siguiente codigo\n",
        "def promedio(x, y):\n",
        "    resultado = (x + y) / 2\n",
        "    return resultado"
      ],
      "execution_count": null,
      "outputs": []
    },
    {
      "cell_type": "code",
      "metadata": {
        "id": "v1MTQ3zrfJOX",
        "outputId": "04b8fef6-a26f-428f-9ce2-11c41e8c1d66"
      },
      "source": [
        "promedio(9, 12)"
      ],
      "execution_count": null,
      "outputs": [
        {
          "output_type": "execute_result",
          "data": {
            "text/plain": [
              "10.5"
            ]
          },
          "metadata": {
            "tags": []
          },
          "execution_count": 68
        }
      ]
    },
    {
      "cell_type": "markdown",
      "metadata": {
        "id": "0PLcn5POfJOZ"
      },
      "source": [
        "## IF-staments"
      ]
    },
    {
      "cell_type": "markdown",
      "metadata": {
        "id": "ura0DNLcfJOZ"
      },
      "source": [
        "Para escribir código útil, casi siempre necesitamos la capacidad de comprobar ciertas condiciones y cambiar el comportamiento del código como corresponda. Las sentencias condicionales nos dan esta capacidad.\n",
        "\n",
        "En Python, las sentencias condicionales vienen dadas por la sentencia `if-elif-else`. Veamos varios ejemplos."
      ]
    },
    {
      "cell_type": "code",
      "metadata": {
        "id": "tRoY9tjcfJOZ"
      },
      "source": [
        "x = 5\n",
        "y = 4"
      ],
      "execution_count": null,
      "outputs": []
    },
    {
      "cell_type": "code",
      "metadata": {
        "id": "7nHPddDSfJOa"
      },
      "source": [
        "#Primero evaluo si x es menor a y\n",
        "if x < y:\n",
        "    #Si lo es imprimo esta secuencia\n",
        "    print(x, \"es menor que\", y)"
      ],
      "execution_count": null,
      "outputs": []
    },
    {
      "cell_type": "code",
      "metadata": {
        "scrolled": true,
        "id": "XV_qQK7VfJOc",
        "outputId": "7d4a087c-c137-4068-88e2-e3e6ae9cb57c"
      },
      "source": [
        "#Primero evaluo si x es menor a y\n",
        "if x < y:\n",
        "    #Si lo es imprimo esta secuencia\n",
        "    print(x, \"es menor que\", y)\n",
        "#Si esto no se cumple\n",
        "else:\n",
        "    #Entonces imprimo esta secuencia\n",
        "    print(x, \"es mayor o igual que\", y)"
      ],
      "execution_count": null,
      "outputs": [
        {
          "output_type": "stream",
          "text": [
            "5 es mayor o igual que 4\n"
          ],
          "name": "stdout"
        }
      ]
    },
    {
      "cell_type": "code",
      "metadata": {
        "id": "jfkshTiWfJOe",
        "outputId": "a40f7e11-537e-47a1-e935-50221136dba9"
      },
      "source": [
        "#Primero evaluo si x es menor a y\n",
        "if x < y:\n",
        "    #Si lo es imprimo esta secuencia\n",
        "    print(x, \"es menor que\", y)\n",
        "#Si no lo es evaluo si x es mayor a y\n",
        "elif x > y:\n",
        "    #Si lo es, imprimo ahora esta secuencia\n",
        "    print(x, \"es mayor que\", y)"
      ],
      "execution_count": null,
      "outputs": [
        {
          "output_type": "stream",
          "text": [
            "5 es mayor que 4\n"
          ],
          "name": "stdout"
        }
      ]
    },
    {
      "cell_type": "code",
      "metadata": {
        "id": "zJrpswURfJOg",
        "outputId": "11d8985b-0a83-4afe-9d9a-84898a8d84eb"
      },
      "source": [
        "#Primero evaluo si x es menor a y\n",
        "if x < y:\n",
        "    #Si lo es imprimo esta secuencia\n",
        "    print(x, \"es menor que\", y)\n",
        "#Si no lo es evaluo si x es mayor a y\n",
        "elif x > y:\n",
        "    #Si lo es, imprimo ahora esta secuencia\n",
        "    print(x, \"es mayor que\", y)\n",
        "#Si ninguna de las condiciones anteriores se cumple\n",
        "else:\n",
        "    #Entonces imprimo esta secuencia\n",
        "    print(x, \"y\", y, \"son iguales\")"
      ],
      "execution_count": null,
      "outputs": [
        {
          "output_type": "stream",
          "text": [
            "5 es mayor que 4\n"
          ],
          "name": "stdout"
        }
      ]
    },
    {
      "cell_type": "markdown",
      "metadata": {
        "id": "mkNV1pv4fJOh"
      },
      "source": [
        "## Iteración"
      ]
    },
    {
      "cell_type": "markdown",
      "metadata": {
        "id": "yUspGGzXfJOh"
      },
      "source": [
        "La ejecución repetida de un conjunto de sentencias se llama **iteración**. Python proporciona varias sentencias que hacen más fácil la iteración."
      ]
    },
    {
      "cell_type": "markdown",
      "metadata": {
        "id": "T2CMjNGZfJOn"
      },
      "source": [
        "## For loops"
      ]
    },
    {
      "cell_type": "markdown",
      "metadata": {
        "id": "TguBoVfSfJOn"
      },
      "source": [
        "Otra sentencia para iteraciones es el bucle `for`, que repite el bloque de código un número prederminado de veces. Observemos ahora su sintaxis:"
      ]
    },
    {
      "cell_type": "code",
      "metadata": {
        "id": "ipcq77bjfJOn"
      },
      "source": [
        "lista_numeros = [0, 1, 2, 3, 4, 5]"
      ],
      "execution_count": null,
      "outputs": []
    },
    {
      "cell_type": "code",
      "metadata": {
        "id": "i738AChyfJOo",
        "outputId": "d07a355a-bbd6-4507-da56-6b3eaafed538"
      },
      "source": [
        "#Para cada elemento en la lista lista_numeros\n",
        "for numero in lista_numeros:\n",
        "    #Mostra el numero\n",
        "    print(numero)"
      ],
      "execution_count": null,
      "outputs": [
        {
          "output_type": "stream",
          "text": [
            "0\n",
            "1\n",
            "2\n",
            "3\n",
            "4\n",
            "5\n"
          ],
          "name": "stdout"
        }
      ]
    },
    {
      "cell_type": "markdown",
      "metadata": {
        "id": "pMCDpe1RfJOq"
      },
      "source": [
        "El cuerpo del bucle `for` se ejecuta tantas veces como elementos tenga el elemento iterable. Cualquier iterable: listas, diccionarios, strings pueden ser utilizados."
      ]
    },
    {
      "cell_type": "code",
      "metadata": {
        "id": "BpaDeomLfJOq",
        "outputId": "ce26b022-fce0-4d84-b5a0-b53e6ea8598e"
      },
      "source": [
        "iterable = \"los 'strings' tambien son iterables!\"\n",
        "for elemento in iterable:\n",
        "    print(elemento)"
      ],
      "execution_count": null,
      "outputs": [
        {
          "output_type": "stream",
          "text": [
            "l\n",
            "o\n",
            "s\n",
            " \n",
            "'\n",
            "s\n",
            "t\n",
            "r\n",
            "i\n",
            "n\n",
            "g\n",
            "s\n",
            "'\n",
            " \n",
            "t\n",
            "a\n",
            "m\n",
            "b\n",
            "i\n",
            "e\n",
            "n\n",
            " \n",
            "s\n",
            "o\n",
            "n\n",
            " \n",
            "i\n",
            "t\n",
            "e\n",
            "r\n",
            "a\n",
            "b\n",
            "l\n",
            "e\n",
            "s\n",
            "!\n"
          ],
          "name": "stdout"
        }
      ]
    },
    {
      "cell_type": "markdown",
      "metadata": {
        "id": "1cRp6JVnfJOs"
      },
      "source": [
        "Los numeros no son iterables. Prueba corriendo el siguiente código."
      ]
    },
    {
      "cell_type": "code",
      "metadata": {
        "id": "5x5nrfIdfJOs",
        "outputId": "d4b25dce-7756-4923-a4dd-394f9aea42ef"
      },
      "source": [
        "for elemento in 4:\n",
        "      print(elemento)"
      ],
      "execution_count": null,
      "outputs": [
        {
          "output_type": "error",
          "ename": "TypeError",
          "evalue": "'int' object is not iterable",
          "traceback": [
            "\u001b[0;31m---------------------------------------------------------------------------\u001b[0m",
            "\u001b[0;31mTypeError\u001b[0m                                 Traceback (most recent call last)",
            "\u001b[0;32m<ipython-input-79-03089aa1f59e>\u001b[0m in \u001b[0;36m<module>\u001b[0;34m\u001b[0m\n\u001b[0;32m----> 1\u001b[0;31m \u001b[0;32mfor\u001b[0m \u001b[0melemento\u001b[0m \u001b[0;32min\u001b[0m \u001b[0;36m4\u001b[0m\u001b[0;34m:\u001b[0m\u001b[0;34m\u001b[0m\u001b[0;34m\u001b[0m\u001b[0m\n\u001b[0m\u001b[1;32m      2\u001b[0m       \u001b[0mprint\u001b[0m\u001b[0;34m(\u001b[0m\u001b[0melemento\u001b[0m\u001b[0;34m)\u001b[0m\u001b[0;34m\u001b[0m\u001b[0;34m\u001b[0m\u001b[0m\n",
            "\u001b[0;31mTypeError\u001b[0m: 'int' object is not iterable"
          ]
        }
      ]
    },
    {
      "cell_type": "markdown",
      "metadata": {
        "id": "W70GhX9XfJOu"
      },
      "source": [
        "La función range (`range(n)`) genera una secuencia con números desde `0` hasta `n-1`."
      ]
    },
    {
      "cell_type": "code",
      "metadata": {
        "id": "wOT2VZtJfJOv",
        "outputId": "aca55dd5-2414-4142-fd30-dec4ae56f6e9"
      },
      "source": [
        "for j in range(11):\n",
        "    if j % 2 == 0:\n",
        "        print(f\"{j} es divisible por 2\")"
      ],
      "execution_count": null,
      "outputs": [
        {
          "output_type": "stream",
          "text": [
            "0 es divisible por 2\n",
            "2 es divisible por 2\n",
            "4 es divisible por 2\n",
            "6 es divisible por 2\n",
            "8 es divisible por 2\n",
            "10 es divisible por 2\n"
          ],
          "name": "stdout"
        }
      ]
    }
  ]
}